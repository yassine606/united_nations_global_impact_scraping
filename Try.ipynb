{
 "cells": [
  {
   "cell_type": "code",
   "execution_count": 1,
   "metadata": {},
   "outputs": [],
   "source": [
    "from selenium import webdriver\n",
    "import time \n",
    "from selenium.common.exceptions import NoSuchElementException\n",
    "from selenium.webdriver.support.select import Select\n",
    "import pandas as pd \n",
    "from selenium import webdriver\n",
    "from selenium.webdriver.common.keys import Keys\n",
    "from selenium.webdriver.support import expected_conditions as EC\n",
    "from selenium.webdriver.support.wait import WebDriverWait\n",
    "import time\n",
    "from webdriver_manager.chrome import ChromeDriverManager\n",
    "from selenium.webdriver.common.by import By\n",
    "from selenium.webdriver.support.ui import WebDriverWait\n"
   ]
  },
  {
   "cell_type": "code",
   "execution_count": 2,
   "metadata": {},
   "outputs": [
    {
     "name": "stderr",
     "output_type": "stream",
     "text": [
      "\n",
      "\n",
      "====== WebDriver manager ======\n",
      "Current google-chrome version is 111.0.5563\n",
      "Get LATEST chromedriver version for 111.0.5563 google-chrome\n",
      "Trying to download new driver from https://chromedriver.storage.googleapis.com/111.0.5563.64/chromedriver_mac64.zip\n",
      "Driver has been saved in cache [/Users/admin/.wdm/drivers/chromedriver/mac64/111.0.5563.64]\n",
      "<ipython-input-2-ef01c51c52b7>:2: DeprecationWarning: executable_path has been deprecated, please pass in a Service object\n",
      "  driver = webdriver.Chrome(ChromeDriverManager().install(),options=options)\n"
     ]
    }
   ],
   "source": [
    "options = webdriver.ChromeOptions()\n",
    "driver = webdriver.Chrome(ChromeDriverManager().install(),options=options)\n"
   ]
  },
  {
   "cell_type": "code",
   "execution_count": 3,
   "metadata": {},
   "outputs": [],
   "source": [
    "url=\"https://unglobalcompact.org/what-is-gc/participants?page=1\"\n",
    "driver.get(url)\n",
    "time.sleep(10)"
   ]
  },
  {
   "cell_type": "code",
   "execution_count": 4,
   "metadata": {},
   "outputs": [
    {
     "name": "stderr",
     "output_type": "stream",
     "text": [
      "<ipython-input-4-0e826d8d8466>:2: DeprecationWarning: find_element_by_* commands are deprecated. Please use find_element() instead\n",
      "  cookie = driver.find_element_by_xpath('//*[@id=\"cookiescript_reject\"]')\n"
     ]
    }
   ],
   "source": [
    "try:\n",
    "    cookie = driver.find_element_by_xpath('//*[@id=\"cookiescript_reject\"]')\n",
    "    cookie.click()\n",
    "    time.sleep(5)\n",
    "except NoSuchElementException:\n",
    "    print(\"No cookies to accept\")"
   ]
  },
  {
   "cell_type": "code",
   "execution_count": 6,
   "metadata": {},
   "outputs": [],
   "source": [
    "def scrape_data(driver):\n",
    "    col_names =  [\"Name\"]\n",
    "    df = pd.DataFrame(columns=col_names)\n",
    "    names = []\n",
    "    types = []\n",
    "    sectors = []\n",
    "    countries = []\n",
    "    joinnned_ones = []\n",
    "\n",
    "    for _ in range(1, 1854):\n",
    "        name = driver.find_elements(By.XPATH, \"//th[@class='name']/a\")\n",
    "        typee = driver.find_elements(By.XPATH, '//td[@class=\"type\"]')\n",
    "        sector = driver.find_elements(By.XPATH, \"//td[@class='sector']\")\n",
    "        country = driver.find_elements(By.XPATH, \"//td[@class='country']\")\n",
    "        joinnned_on = driver.find_elements(By.XPATH, \"//td[@class='joined-on']\")\n",
    "\n",
    "        for i in range(0, len(name)):\n",
    "            try: \n",
    "                names.append(name[i].text)\n",
    "            except: \n",
    "                names.append(\"Not found\")\n",
    "            try: \n",
    "                types.append(typee[i].text)\n",
    "            except: \n",
    "                types.append(\"Not found\")\n",
    "            try: \n",
    "                sectors.append(sector[i].text)\n",
    "            except: \n",
    "                sectors.append(\"Not found\")\n",
    "            try: \n",
    "                countries.append(country[i].text)\n",
    "            except: \n",
    "                countries.append(\"Not found\")\n",
    "            try: \n",
    "                joinnned_ones.append(joinnned_on[i].text)\n",
    "            except: \n",
    "                joinnned_ones.append(\"Not found\")\n",
    "\n",
    "        try:\n",
    "            next_button = driver.find_element(By.XPATH, \"//a[@class='next_page']\")\n",
    "            next_button.click()\n",
    "            wait = WebDriverWait(driver, 10)\n",
    "        except:\n",
    "            break\n",
    "\n",
    "    df[\"name\"], df[\"typee\"], df[\"sector\"], df[\"country\"], df[\"joinnned_on\"] = names, types, sectors, countries, joinnned_ones\n",
    "\n",
    "    return df\n"
   ]
  },
  {
   "cell_type": "code",
   "execution_count": 7,
   "metadata": {},
   "outputs": [],
   "source": [
    "df = scrape_data(driver)"
   ]
  },
  {
   "cell_type": "code",
   "execution_count": null,
   "metadata": {},
   "outputs": [],
   "source": [
    "df.to_csv(\"data_output.csv\", encoding=\"utf-8\",index=None)"
   ]
  },
  {
   "cell_type": "code",
   "execution_count": null,
   "metadata": {},
   "outputs": [],
   "source": []
  }
 ],
 "metadata": {
  "kernelspec": {
   "display_name": "Python 3",
   "language": "python",
   "name": "python3"
  },
  "language_info": {
   "codemirror_mode": {
    "name": "ipython",
    "version": 3
   },
   "file_extension": ".py",
   "mimetype": "text/x-python",
   "name": "python",
   "nbconvert_exporter": "python",
   "pygments_lexer": "ipython3",
   "version": "3.8.3"
  }
 },
 "nbformat": 4,
 "nbformat_minor": 4
}
